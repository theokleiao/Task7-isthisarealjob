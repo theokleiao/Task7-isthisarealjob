{
 "cells": [
  {
   "cell_type": "code",
   "execution_count": 2,
   "metadata": {},
   "outputs": [
    {
     "ename": "ModuleNotFoundError",
     "evalue": "No module named 'selenium'",
     "output_type": "error",
     "traceback": [
      "\u001b[1;31m---------------------------------------------------------------------------\u001b[0m",
      "\u001b[1;31mModuleNotFoundError\u001b[0m                       Traceback (most recent call last)",
      "\u001b[1;32m<ipython-input-2-98a78b9c1c20>\u001b[0m in \u001b[0;36m<module>\u001b[1;34m\u001b[0m\n\u001b[0;32m      1\u001b[0m \u001b[1;32mimport\u001b[0m \u001b[0mtime\u001b[0m\u001b[1;33m\u001b[0m\u001b[1;33m\u001b[0m\u001b[0m\n\u001b[1;32m----> 2\u001b[1;33m \u001b[1;32mimport\u001b[0m \u001b[0mselenium\u001b[0m\u001b[1;33m\u001b[0m\u001b[1;33m\u001b[0m\u001b[0m\n\u001b[0m\u001b[0;32m      3\u001b[0m \u001b[1;32mfrom\u001b[0m \u001b[0mselenium\u001b[0m \u001b[1;32mimport\u001b[0m \u001b[0mwebdriver\u001b[0m\u001b[1;33m\u001b[0m\u001b[1;33m\u001b[0m\u001b[0m\n\u001b[0;32m      4\u001b[0m \u001b[1;32mimport\u001b[0m \u001b[0mpandas\u001b[0m \u001b[1;32mas\u001b[0m \u001b[0mpd\u001b[0m\u001b[1;33m\u001b[0m\u001b[1;33m\u001b[0m\u001b[0m\n\u001b[0;32m      5\u001b[0m \u001b[1;32mfrom\u001b[0m \u001b[0mselenium\u001b[0m\u001b[1;33m.\u001b[0m\u001b[0mwebdriver\u001b[0m\u001b[1;33m.\u001b[0m\u001b[0mcommon\u001b[0m\u001b[1;33m.\u001b[0m\u001b[0mby\u001b[0m \u001b[1;32mimport\u001b[0m \u001b[0mBy\u001b[0m\u001b[1;33m\u001b[0m\u001b[1;33m\u001b[0m\u001b[0m\n",
      "\u001b[1;31mModuleNotFoundError\u001b[0m: No module named 'selenium'"
     ]
    }
   ],
   "source": [
    "import time\n",
    "import selenium\n",
    "from selenium import webdriver\n",
    "import pandas as pd\n",
    "from selenium.webdriver.common.by import By\n",
    "from selenium.webdriver.support.ui import WebDriverWait\n",
    "from selenium.webdriver.support import expected_conditions as EC\n",
    "import itertools"
   ]
  },
  {
   "cell_type": "code",
   "execution_count": 2,
   "metadata": {},
   "outputs": [],
   "source": [
    "class WebTable:\n",
    "    def __init__(self, webtable):\n",
    "       self.table = webtable\n",
    "\n",
    "    def get_row_count(self):\n",
    "      return len(self.table.find_elements_by_tag_name(\"tr\")) - 1;\n",
    "\n",
    "    def get_column_count(self):\n",
    "        return len(self.table.find_elements_by_xpath(\"//tr[2]/td\"));\n",
    "\n",
    "    def get_table_size(self):\n",
    "        return {\"rows\": self.get_row_count(),\n",
    "                \"columns\": self.get_column_count()}\n",
    "\n",
    "    def row_data(self, row_number):\n",
    "        if(row_number == 0):\n",
    "            raise Exception(\"Row number starts from 1\")\n",
    "\n",
    "        row_number = row_number + 1;\n",
    "        row = self.table.find_elements_by_xpath(\"//tr[\"+str(row_number)+\"]/td\");\n",
    "        rData = [];\n",
    "        for webElement in row :\n",
    "            rData.append(webElement.text);\n",
    "\n",
    "        return rData;\n",
    "\n",
    "    def column_data(self, column_number):\n",
    "        col = self.table.find_elements_by_xpath(\"//tr/td[\"+str(column_number)+\"]\");\n",
    "        rData = [];\n",
    "        for webElement in col :\n",
    "            rData.append(webElement.text);\n",
    "        return rData;\n",
    "\n",
    "    def get_all_data(self):\n",
    "        # get number of rows\n",
    "        noOfRows = len(self.table.find_elements_by_xpath(\"//tr\")) -1;\n",
    "        # get number of columns\n",
    "        noOfColumns = len(self.table.find_elements_by_xpath(\"//tr[2]/td\"));\n",
    "        allData = [];\n",
    "        # iterate over the rows, to ignore the headers we have started the i with '1'\n",
    "        for i in range(2, noOfRows):\n",
    "            # reset the row data every time\n",
    "            ro = [];\n",
    "            # iterate over columns\n",
    "            for j in range(1, noOfColumns) :\n",
    "                # get text from the i th row and j th column\n",
    "                ro.append(self.table.find_element_by_xpath(\"//tr[\"+str(i)+\"]/td[\"+str(j)+\"]\").text);\n",
    "\n",
    "            # add the row data to allData of the self.table\n",
    "            allData.append(ro);\n",
    "\n",
    "        return allData;\n",
    "\n",
    "    def presence_of_data(self, data):\n",
    "\n",
    "        # verify the data by getting the size of the element matches based on the text/data passed\n",
    "        dataSize = len(self.table.find_elements_by_xpath(\"//td[normalize-space(text())='\"+data+\"']\"))\n",
    "        presence = false;\n",
    "        if(dataSize > 0):\n",
    "            presence = true;\n",
    "        return presence;\n",
    "\n",
    "    def get_cell_data(self, row_number, column_number):\n",
    "        if(rowNumber == 0):\n",
    "            raise Exception(\"Row number starts from 1\");\n",
    "\n",
    "        rowNumber = rowNumber+1;\n",
    "        cellData = table.find_element_by_xpath(\"//tr[\"+str(row_number)+\"]/td[\"+str(column_number)+\"]\").text;\n",
    "        return cellData;"
   ]
  },
  {
   "cell_type": "code",
   "execution_count": 103,
   "metadata": {},
   "outputs": [],
   "source": [
    "def getString(length=3, characters='abcdefghijklmnopqrstuvwxyz'):\n",
    "    for s in itertools.product(characters, repeat=length):\n",
    "        yield ''.join(s)"
   ]
  },
  {
   "cell_type": "code",
   "execution_count": 170,
   "metadata": {},
   "outputs": [],
   "source": [
    "def join_db(db):\n",
    "    cac_db = pd.read_csv('data\\cac_db.csv')\n",
    "    cac_db_main = pd.concat([cac_db, db])\n",
    "    cac_db_main = cac_db_main.drop_duplicates()\n",
    "    cac_db_main.reset_index(drop=True, inplace=True)\n",
    "    cac_db_main.to_csv('data\\cac_db.csv', index = None, header=True)"
   ]
  },
  {
   "cell_type": "code",
   "execution_count": 169,
   "metadata": {
    "scrolled": true
   },
   "outputs": [],
   "source": [
    "def cac_scraper(x):\n",
    "    \"\"\"Scrapes CAC website for company info\n",
    "    args:\n",
    "    x: str, letter combination to continue scraping from\n",
    "    \"\"\"\n",
    "    driver = webdriver.Chrome(\"data\\chromedriver.exe\")\n",
    "    string = [s for s in getString()]\n",
    "    idx = string.index(x)\n",
    "    url = 'http://publicsearch.cac.gov.ng/comsearch/'\n",
    "    driver.get(url)\n",
    "    time.sleep(10)\n",
    "    data=[]\n",
    "    for s in string[idx:]:\n",
    "        try:\n",
    "            driver.find_element_by_css_selector('input.field').send_keys(s)\n",
    "            element = WebDriverWait(driver, 300).until(EC.presence_of_element_located((By.ID, \"directorsTbl\")))\n",
    "\n",
    "            table = driver.find_element_by_id('directorsTbl')\n",
    "            if len(table.find_elements_by_tag_name(\"tr\")) >= 1:\n",
    "                CACtable = WebTable(table)\n",
    "                db = CACtable.get_all_data()\n",
    "                data.append(db)\n",
    "            else:\n",
    "                pass\n",
    "            driver.refresh()\n",
    "        except:\n",
    "            break\n",
    "    cac_data=[]\n",
    "    for _ in data:\n",
    "        for d in _:\n",
    "            cac_data.append(d) \n",
    "    col_names = ['RC NUMBER', 'COMPANY NAME', 'ADDRESS']\n",
    "    cac_db = pd.DataFrame(cac_data, columns=col_names)\n",
    "    print(f\"database creation stopped at {s}\")\n",
    "    join_db(cac_db)"
   ]
  },
  {
   "cell_type": "code",
   "execution_count": 171,
   "metadata": {},
   "outputs": [
    {
     "name": "stdout",
     "output_type": "stream",
     "text": [
      "database creation stopped at aao\n"
     ]
    }
   ],
   "source": [
    "cac_scraper('aao')"
   ]
  },
  {
   "cell_type": "code",
   "execution_count": null,
   "metadata": {},
   "outputs": [],
   "source": [
    "df= pd.read_csv(\"cac_db.csv\")\n",
    "Company = input(\"enter name of company\")\n",
    "if df['COMPANY NAME'].str.contains(Company).any():\n",
    "    print(\"Company is in CAC database\")\n",
    "else:\n",
    "   print(\"Company is not registered in CAC database\")"
   ]
  }
 ],
 "metadata": {
  "kernelspec": {
   "display_name": "Python 3",
   "language": "python",
   "name": "python3"
  },
  "language_info": {
   "codemirror_mode": {
    "name": "ipython",
    "version": 3
   },
   "file_extension": ".py",
   "mimetype": "text/x-python",
   "name": "python",
   "nbconvert_exporter": "python",
   "pygments_lexer": "ipython3",
   "version": "3.7.3"
  }
 },
 "nbformat": 4,
 "nbformat_minor": 2
}
